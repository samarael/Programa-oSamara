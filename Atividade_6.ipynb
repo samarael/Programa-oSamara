{
  "nbformat": 4,
  "nbformat_minor": 0,
  "metadata": {
    "colab": {
      "provenance": [],
      "collapsed_sections": [],
      "authorship_tag": "ABX9TyOTdOvjyU9BV1fY/t5QL3tf",
      "include_colab_link": true
    },
    "kernelspec": {
      "name": "python3",
      "display_name": "Python 3"
    },
    "language_info": {
      "name": "python"
    }
  },
  "cells": [
    {
      "cell_type": "markdown",
      "metadata": {
        "id": "view-in-github",
        "colab_type": "text"
      },
      "source": [
        "<a href=\"https://colab.research.google.com/github/samarael/Programa-oSamara/blob/main/Atividade_6.ipynb\" target=\"_parent\"><img src=\"https://colab.research.google.com/assets/colab-badge.svg\" alt=\"Open In Colab\"/></a>"
      ]
    },
    {
      "cell_type": "code",
      "execution_count": null,
      "metadata": {
        "colab": {
          "base_uri": "https://localhost:8080/"
        },
        "id": "LjCebHUiEl1t",
        "outputId": "b6e21fb4-906e-48fd-fd4f-06fc345b9ce4"
      },
      "outputs": [
        {
          "name": "stdout",
          "output_type": "stream",
          "text": [
            "Tipo de anestesia usadoEtomidato\n",
            "Qual o peso do rato:10\n",
            "De acordo com as informações, a anestesia tem 15ml\n",
            "Todas asa informações estão corretas? (s/n)s\n"
          ]
        }
      ],
      "source": [
        "while(True):\n",
        "  anestesia=input(\"Tipo de anestesia usado\")\n",
        "  peso=input(\"Qual o peso do rato:\")\n",
        "  print(\"De acordo com as informações, a anestesia tem 15ml\")\n",
        "  informacoes=input(\"Todas asa informações estão corretas? (s/n)\")\n",
        "  if informacoes==\"s\":\n",
        "    break\n",
        "  else:\n",
        "    continue"
      ]
    },
    {
      "cell_type": "code",
      "source": [
        "while(True):\n",
        "  posicionamento=input(\"O animal foi posicionado no estereotáxico?(s/n)\")\n",
        "  if posicionamento==\"s\":\n",
        "    print(\"As barras de suporte estão sendo posiocionadas\")\n",
        "    print(\"Observar a piscada no olho\")\n",
        "    print(\"Verique angualçaão da cabeça\")\n",
        "    break\n",
        "  elif posicionamento==\"n\":\n",
        "    continue"
      ],
      "metadata": {
        "colab": {
          "base_uri": "https://localhost:8080/"
        },
        "id": "cASmoKdfFgrA",
        "outputId": "4c4ba433-b4b4-4692-94c1-3d2bc26e6c70"
      },
      "execution_count": null,
      "outputs": [
        {
          "output_type": "stream",
          "name": "stdout",
          "text": [
            "O animal foi posicionado no estereotáxico?(s/n)n\n",
            "O animal foi posicionado no estereotáxico?(s/n)s\n",
            "As barras de suporte estão sendo posiocionadas\n",
            "Observar a piscada no olho\n",
            "Verique angualçaão da cabeça\n"
          ]
        }
      ]
    },
    {
      "cell_type": "code",
      "source": [
        "while(True):\n",
        "  couro=input(\"O couro cabeludo foi retirado?\")\n",
        "  tecidos=input(\"Os tecidos moles foram retirados?\")\n",
        "  if couro==\"s\" and tecidos==\"s\":\n",
        "    for i in range(10):\n",
        "      print(\"O valome\" , i+1,\"de h202 foi aplicado\")\n",
        "    print(\"A aplicação de poliacrilato foi realizada\")\n",
        "    break\n",
        "  else:\n",
        "    print(\"Repetir todo o processo\")\n",
        "    continue"
      ],
      "metadata": {
        "colab": {
          "base_uri": "https://localhost:8080/"
        },
        "id": "Xernxax2HBnn",
        "outputId": "4840f32b-19a4-44a6-a1dd-d7831d06bb92"
      },
      "execution_count": null,
      "outputs": [
        {
          "output_type": "stream",
          "name": "stdout",
          "text": [
            "O couro cabeludo foi retirado?s\n",
            "Os tecidos moles foram retirados?s\n",
            "O valome 1 de h202 foi aplicado\n",
            "O valome 2 de h202 foi aplicado\n",
            "O valome 3 de h202 foi aplicado\n",
            "O valome 4 de h202 foi aplicado\n",
            "O valome 5 de h202 foi aplicado\n",
            "O valome 6 de h202 foi aplicado\n",
            "O valome 7 de h202 foi aplicado\n",
            "O valome 8 de h202 foi aplicado\n",
            "O valome 9 de h202 foi aplicado\n",
            "O valome 10 de h202 foi aplicado\n",
            "A aplicação de poliacrilato foi realizada\n"
          ]
        }
      ]
    },
    {
      "cell_type": "code",
      "source": [
        "valores_do_hipocampo={\n",
        "    \"AP\":6.42,\n",
        "    \"LL\":3.23,\n",
        "    \"DV\":4.2\n",
        "}\n",
        "print(valores_do_hipocampo)\n",
        "subtraçãoDosValores=(valores_do_hipocampo[\"AP\"]-0.42,valores_do_hipocampo[\"LL\"]+0.3,valores_do_hipocampo[\"DV\"]-0.2)\n",
        "print(subtraçãoDosValores)\n",
        "instrução1=input(\"Insira a instrução 1 na fixação do parafuso\")\n",
        "instrução2=input(\"Insira a instrução 2 na fixação do parafuso\")\n",
        "print(\"instrução dos pontos\")\n",
        "print(\"Antero Posterior =6, laterolateral = 3.63 e dorso ventral 3.03\")\n",
        "canula=input(\"Qual hemisferio a canula sera colocada?\")"
      ],
      "metadata": {
        "colab": {
          "base_uri": "https://localhost:8080/"
        },
        "id": "1j9k7LcSIcfv",
        "outputId": "2e7aa836-2b4b-453d-ac14-cd397dd30e62"
      },
      "execution_count": null,
      "outputs": [
        {
          "name": "stdout",
          "output_type": "stream",
          "text": [
            "{'AP': 6.42, 'LL': 3.23, 'DV': 4.2}\n",
            "(6.0, 3.53, 4.0)\n",
            "Insira a instrução 1 na fixação do parafuso1\n",
            "Insira a instrução 2 na fixação do parafuso2\n",
            "instrução dos pontos\n",
            "Antero Posterior =6, laterolateral = 3.63 e dorso ventral 3.03\n",
            "Qual hemisferio a canula sera colocada?LL\n"
          ]
        }
      ]
    },
    {
      "cell_type": "code",
      "source": [
        "print(\"Perfuração das meningues\")\n",
        "for i in range(0,46,5):\n",
        "  if i<45:\n",
        "    print(\"Ajustar o angulo:\", i, \"º\")\n",
        "  elif i==45:\n",
        "    print(\"Angulo ajustado:\", i,\"º\")\n",
        "print(\"A canula foi introduzida com o valor DV de (4,00)\")\n",
        "print(\"Limpe o cranio para retirada\")\n",
        "print(\"A estrutura de acrilico polimerizante ao redor da cabeça do animal esta ok\")\n",
        "print(\"A fixação de outra canula para guiar um aagulha na sua inserção,DV=4.00\")"
      ],
      "metadata": {
        "colab": {
          "base_uri": "https://localhost:8080/"
        },
        "id": "QyzS3w45LLHt",
        "outputId": "121487c5-8082-46d0-caf6-5a781c8fbfc4"
      },
      "execution_count": null,
      "outputs": [
        {
          "output_type": "stream",
          "name": "stdout",
          "text": [
            "Perfuração das meningues\n",
            "Ajustar o angulo: 0 º\n",
            "Ajustar o angulo: 5 º\n",
            "Ajustar o angulo: 10 º\n",
            "Ajustar o angulo: 15 º\n",
            "Ajustar o angulo: 20 º\n",
            "Ajustar o angulo: 25 º\n",
            "Ajustar o angulo: 30 º\n",
            "Ajustar o angulo: 35 º\n",
            "Ajustar o angulo: 40 º\n",
            "Angulo ajustado: 45 º\n",
            "A canula foi introduzida com o valor DV de (4,00)\n",
            "Limpe o cranio para retirada\n",
            "A estrutura de acrilico polimerizante ao redor da cabeça do animal esta ok\n",
            "A fixação de outra canula para guiar um aagulha na sua inserção,DV=4.00\n"
          ]
        }
      ]
    },
    {
      "cell_type": "code",
      "source": [],
      "metadata": {
        "id": "jwMf5ruHMNfP"
      },
      "execution_count": null,
      "outputs": []
    }
  ]
}