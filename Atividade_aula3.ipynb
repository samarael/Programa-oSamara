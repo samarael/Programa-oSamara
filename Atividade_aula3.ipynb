{
  "nbformat": 4,
  "nbformat_minor": 0,
  "metadata": {
    "colab": {
      "provenance": [],
      "authorship_tag": "ABX9TyML+SiuzNSXs5iMvPwBPP0d",
      "include_colab_link": true
    },
    "kernelspec": {
      "name": "python3",
      "display_name": "Python 3"
    },
    "language_info": {
      "name": "python"
    }
  },
  "cells": [
    {
      "cell_type": "markdown",
      "metadata": {
        "id": "view-in-github",
        "colab_type": "text"
      },
      "source": [
        "<a href=\"https://colab.research.google.com/github/samarael/Programa-oSamara/blob/main/Atividade_aula3.ipynb\" target=\"_parent\"><img src=\"https://colab.research.google.com/assets/colab-badge.svg\" alt=\"Open In Colab\"/></a>"
      ]
    },
    {
      "cell_type": "code",
      "execution_count": null,
      "metadata": {
        "id": "mr74Tq9EBKEb"
      },
      "outputs": [],
      "source": [
        "print('Este programa tem como objetivo receber dados para configuração de microscopio')\n",
        "COR=\"branco\"\n",
        "TAMANHO=\"um metro\"\n",
        "RESOLUCAO_DA_IMAGEM=\"512X512\"\n",
        "TIPO_DE_CELULA=\"muscular\"\n",
        "FAIXA=\"150\"\n",
        "CONTRASTE=\"n\"\n",
        "VOLTAGEM=\"220\"\n",
        "MODELO=\"zeiss\"\n",
        "DIGITAL=\"s\"\n",
        "ANO=\"2001\"\n",
        "\n",
        "cor=input(\"Qual a cor?\")\n",
        "mudanca=input(\"houve mudança?\")\n",
        "print((mudanca==\"s\" and cor!=COR) or (mudanca==\"n\" and cor==COR))\n",
        "tamanho=input(\"Qual o tamanho?\")\n",
        "mudanca=input(\"houve mudança?\")\n",
        "print((mudanca==\"s\" and tamanho!=TAMANHO)or (mudanca==\"n\" and cor==COR))\n",
        "resolução_de_imagem=input(\"Qual resolução de imagem?\")\n",
        "mudanca=input(\"houve mudança?\")\n",
        "print((mudanca==\"s\" and resolução_de_imagem!=RESOLUCAO_DA_IMAGEM) or (mudanca==\"n\" and resolução_de_imagem==RESOLUCAO_DA_IMAGEM))\n",
        "tipo_de_célula=input(\"qual tipo de célula?\")\n",
        "mudanca=input(\"houve mudança?\")\n",
        "print((mudanca==\"s\" and tipo_de_célula!=TIPO_DE_CELULA) or (mudanca==\"n\" and tipo_de_célula==TIPO_DE_CELULA))\n",
        "faixa=input(\"Qual tipo de faixa?\")\n",
        "mudanca=input(\"houve mudança?\")\n",
        "print((mudanca=='s' and faixa!=FAIXA) or (mudanca==\"n\" and faixa==FAIXA))\n",
        "contraste=input(\"Qual contraste?\")\n",
        "mudanca=input(\"houve mudança?\")\n",
        "print((mudanca==\"s\" and contraste!=CONTRASTE) or (mudanca==\"n\" and contraste==CONTRASTE))\n",
        "voltagem=input(\"qual voltagem do equipamento?\")\n",
        "mudanca=input(\"houve mudança?\")\n",
        "print((mudanca==\"s\" and voltagem!=VOLTAGEM) or (mudanca==\"n\" and voltagem==VOLTAGEM))\n",
        "modelo=input(\"qual o modelo?\")\n",
        "mudanca=input(\"houve mudança?\")\n",
        "print((mudanca==\"s\" and modelo!=MODELO) or (mudanca==\"n\" and modelo==MODELO))\n",
        "digital=input(\"o microscopio é digital?\")\n",
        "mudanca=input(\"houve mudança?\")\n",
        "print((mudanca==\"s\" and digital!=DIGITAL) or (mudanca==\"n\" and digital==DIGITAL))\n",
        "ano=input(\"qual ano de fabricação do microscopio?\")\n",
        "mudanca=input(\"houve mudança?\")\n",
        "print((mudanca==\"s\" and ano!=ANO)or (mudanca==\"n\" and ano==ANO))\n",
        "\n",
        "#Temos que responder a variavel e se houve mudanca S ou N e o codigo me dira se é true ou false.\n",
        "print(\"As informações de configurações setadas pelo usuário são:\")\n",
        "print(cor)\n",
        "print(tamanho)\n",
        "print(resolução_de_imagem)\n",
        "print(tipo_de_célula)\n",
        "print(faixa)\n",
        "print(contraste)\n",
        "print(voltagem)\n",
        "print(modelo)\n",
        "print(digital)\n",
        "print(ano)\n",
        "\n",
        "print(\"digite a primeira letra do seu nome\")\n",
        "primeira_letra=input(\"digite a primeira letra do seu nome\")\n",
        "print(primeira_letra)\n",
        "primeira_letra=input(\"digite a primeira letra do seu nome\")\n",
        "print(primeira_letra)\n",
        "primeira_letra=input(\"digite a primeira letra do seu nome\")\n",
        "print(primeira_letra)\n",
        "primeira_letra=input(\"digite a primeira letra do seu nome\")\n",
        "print(primeira_letra)\n",
        "primeira_letra=input(\"digite a primeira letra do seu nome\")\n",
        "print(primeira_letra)\n",
        "primeira_letra=input(\"digite a primeira letra do seu nome\")\n",
        "print(primeira_letra)\n",
        "primeira_letra=input(\"digite a primeira letra do seu nome\")\n",
        "print(primeira_letra)\n",
        "primeira_letra=input(\"digite a primeira letra do seu nome\")\n",
        "print(primeira_letra)\n",
        "primeira_letra=input(\"digite a primeira letra do seu nome\")\n",
        "print(primeira_letra)\n",
        "primeira_letra=input(\"digite a primeira letra do seu nome\")\n",
        "print(primeira_letra)\n",
        "print(\"digite a ultima letra do seu nome\")\n",
        "ultima_letra=input(\"digite a ultima letra do seu nome\")\n",
        "print(ultima_letra)\n",
        "ultima_letra=input(\"digite a ultima letra do seu nome\")\n",
        "print(ultima_letra)\n",
        "ultima_letra=input(\"digite a ultima letra do seu nome\")\n",
        "print(ultima_letra)\n",
        "ultima_letra=input(\"digite a ultima letra do seu nome\")\n",
        "print(ultima_letra)\n",
        "ultima_letra=input(\"digite a ultima letra do seu nome\")\n",
        "print(ultima_letra)\n",
        "ultima_letra=input(\"digite a ultima letra do seu nome\")\n",
        "print(ultima_letra)\n",
        "ultima_letra=input(\"digite a ultima letra do seu nome\")\n",
        "print(ultima_letra)\n",
        "ultima_letra=input(\"digite a ultima letra do seu nome\")\n",
        "print(ultima_letra)\n",
        "ultima_letra=input(\"digite a ultima letra do seu nome\")\n",
        "print(ultima_letra)\n",
        "ultima_letra=input(\"digite a ultima letra do seu nome\")\n",
        "print(ultima_letra)\n",
        "print(\"Houve o termino da calibração do sistema\")"
      ]
    },
    {
      "cell_type": "code",
      "source": [
        "segundaLetra = input(\"Digite 10x a tecla correspondente à segunda letra do seu nome: \")\n",
        "penultimaLetra = input(\"Digite 10x a tecla correspondente à penúltima letra do seu nome: \")\n",
        "resposta=input(\"A informação foi digitada corretamente?\")\n",
        "print(\"proxima fase\")"
      ],
      "metadata": {
        "colab": {
          "base_uri": "https://localhost:8080/"
        },
        "id": "FBBhBN6NBLIR",
        "outputId": "fa9f9599-0b43-41a8-8edb-36ea5c17ef13"
      },
      "execution_count": null,
      "outputs": [
        {
          "output_type": "stream",
          "name": "stdout",
          "text": [
            "Digite 10x a tecla correspondente à segunda letra do seu nome: a\n",
            "Digite 10x a tecla correspondente à penúltima letra do seu nome: r\n",
            "A informação foi digitada corretamente?s\n",
            "proxima fase\n"
          ]
        }
      ]
    }
  ]
}