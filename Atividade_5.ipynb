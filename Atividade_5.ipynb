{
  "nbformat": 4,
  "nbformat_minor": 0,
  "metadata": {
    "colab": {
      "provenance": [],
      "authorship_tag": "ABX9TyPLnf1pySMYlixu/zT9T6w9",
      "include_colab_link": true
    },
    "kernelspec": {
      "name": "python3",
      "display_name": "Python 3"
    },
    "language_info": {
      "name": "python"
    }
  },
  "cells": [
    {
      "cell_type": "markdown",
      "metadata": {
        "id": "view-in-github",
        "colab_type": "text"
      },
      "source": [
        "<a href=\"https://colab.research.google.com/github/samarael/Programa-oSamara/blob/main/Atividade_5.ipynb\" target=\"_parent\"><img src=\"https://colab.research.google.com/assets/colab-badge.svg\" alt=\"Open In Colab\"/></a>"
      ]
    },
    {
      "cell_type": "code",
      "execution_count": null,
      "metadata": {
        "id": "AQYfP-4Z6BTb"
      },
      "outputs": [],
      "source": [
        "estados=[\"Acre \",\"Amapá\",\"Amazonas\",\"Rondônia\",\"Roraima\",\"Tocantins\",\"Pará\",\"Alagoas \",\"Bahia\",\"Ceará \",\"Maranhão\",\"Paraíba\",\"Pernambuco\",\n",
        "\"Piauí\",\"Rio Grande do Norte\",\"Sergipe\",\"Rio de Janeiro\",\"São Paulo \",\"Espírito Santo\",\"Minas Gerais\",\n",
        "\"Rio Grande do Sul\",\"Santa Catarina\",\"Paraná\",\"Distrito Federal\",\"Goiás\",\"Mato Grosso\",\"Mato Grosso do Sul\"]\n",
        "populacao=[881935,845731,4144597,1777225,605761,1572866,8602865,3337357,14873064,9132078,7075181,40181127,9557071,3273227,3506853,2298696,\n",
        "17264943,45919049,4018650,21168791,11377239,7164788,11433957,3015268,7018354,3484466,2778986]\n",
        "casos=[22605,39703,112263,48232,39665,37856,178375,72938,217115,137408,198202,96223,113183,66315,57720,68313,\n",
        "194651,702665,100859,175715,98007,121666,1275,138735,102665,74509,37425]\n",
        "casos_novos=[57,185,351,42,365,867,406,204,1085,555,583,190,225,237,178,316,372,3172,1279,1331,130,786,\n",
        "1275,2268,1073,1240,589]\n",
        "obitos_acumulados=[582,617,3505,568,1017,516,5945,1763,4475,3277,8163,2183,7210,1619,2081,1717,14566,26899,2908,4223,\n",
        "2744,1839,2733,2042,2336,2368,640]\n",
        "novos_obitos=[6,4,22,0,0,5,5,10,69,13,30,21,22,11,14,12,4,47,33,91,55,42,42,66,14,28,14]\n",
        "municipio_roraima=[\"Amajari\",\"Alto Alegre\",\"Boa Vista\",\"Bonfim\",\"Cantá\",\"Mucajaí\",\"Normandia\",\"Pacaraima\",\"Uiramutã\",\n",
        "\"caracaraí\",\"Caroebe\",\"Rorainopólis\",\"São João da Baliza\",\"São Luiz\",\"Iracema\"]\n",
        "\n",
        "estados=(\"Acre \",\"Amapá\",\"Amazonas\",\"Rondônia\",\"Roraima\",\"Tocantins\",\"Pará\",\"Alagoas \",\"Bahia\",\"Ceará \",\"Maranhão\",\"Paraíba\",\"Pernambuco\",\n",
        "\"Piauí\",\"Rio Grande do Norte\",\"Sergipe\",\"Rio de Janeiro\",\"São Paulo \",\"Espírito Santo\",\"Minas Gerais\",\n",
        "\"Rio Grande do Sul\",\"Santa Catarina\",\"Paraná\",\"Distrito Federal\",\"Goiás\",\"Mato Grosso\",\"Mato Grosso do Sul\")\n",
        "populacao=(881935,845731,4144597,1777225,605761,1572866,8602865,3337357,14873064,9132078,7075181,40181127,9557071,3273227,3506853,2298696,\n",
        "17264943,45919049,4018650,21168791,11377239,7164788,11433957,3015268,7018354,3484466,2778986)\n",
        "casos=(22605,39703,112263,48232,39665,37856,178375,72938,217115,137408,198202,96223,113183,66315,57720,68313,\n",
        "194651,702665,100859,175715,98007,121666,1275,138735,102665,74509,37425)\n",
        "casos_novos=(57,185,351,42,365,867,406,204,1085,555,583,190,225,237,178,316,372,3172,1279,1331,130,786,\n",
        "1275,2268,1073,1240,589)\n",
        "obitos_acumulados=(582,617,3505,568,1017,516,5945,1763,4475,3277,8163,2183,7210,1619,2081,1717,14566,26899,2908,4223,\n",
        "2744,1839,2733,2042,2336,2368,640)\n",
        "novos_obitos=(6,4,22,0,0,5,5,10,69,13,30,21,22,11,14,12,4,47,33,91,55,42,42,66,14,28,14)\n",
        "municipio_roraima=(\"Amajari\",\"Alto Alegre\",\"Boa Vista\",\"Bonfim\",\"Cantá\",\"Mucajaí\",\"Normandia\",\"Pacaraima\",\"Uiramutã\",\n",
        "\"caracaraí\",\"Caroebe\",\"Rorainopólis\",\"São João da Baliza\",\"São Luiz\",\"Iracema\")\n",
        "\n"
      ]
    },
    {
      "cell_type": "code",
      "source": [
        "print(\"Obitos do Rio de Janeiro:\", obitos_acumulados[16])"
      ],
      "metadata": {
        "colab": {
          "base_uri": "https://localhost:8080/"
        },
        "id": "GbtN9Hk_62GS",
        "outputId": "0df80af0-6bbc-4b24-86c0-43195741f7b4"
      },
      "execution_count": null,
      "outputs": [
        {
          "output_type": "stream",
          "name": "stdout",
          "text": [
            "Obitos do Rio de Janeiro: 14566\n"
          ]
        }
      ]
    },
    {
      "cell_type": "code",
      "source": [
        "print(\"Obitos de todos os estados\", obitos_acumulados)"
      ],
      "metadata": {
        "colab": {
          "base_uri": "https://localhost:8080/"
        },
        "id": "xEPE4VWf-K_o",
        "outputId": "0d3a75bd-753b-429e-b50e-102cbbeee28b"
      },
      "execution_count": null,
      "outputs": [
        {
          "output_type": "stream",
          "name": "stdout",
          "text": [
            "Obitos de todos os estados [582, 617, 3505, 568, 1017, 516, 5945, 1763, 4475, 3277, 8163, 2183, 7210, 1619, 2081, 1717, 14566, 26899, 2908, 4223, 2744, 1839, 2733, 2042, 2336, 2368, 640]\n"
          ]
        }
      ]
    },
    {
      "cell_type": "code",
      "source": [
        "print(\"Obitos da Paraiba - 10:\", obitos_acumulados[11]-10)"
      ],
      "metadata": {
        "colab": {
          "base_uri": "https://localhost:8080/"
        },
        "id": "qPVB_u31-RH4",
        "outputId": "4bf34f33-5b74-425a-dc15-d3683cf3458a"
      },
      "execution_count": null,
      "outputs": [
        {
          "output_type": "stream",
          "name": "stdout",
          "text": [
            "Obitos da Paraiba - 10: 2173\n"
          ]
        }
      ]
    },
    {
      "cell_type": "markdown",
      "source": [
        "E) Não é possível, pois não se pode modificar uma tupla."
      ],
      "metadata": {
        "id": "0Rt4nt1vAZs1"
      }
    },
    {
      "cell_type": "code",
      "source": [
        "estado_municipio=[estados,municipio_roraima]\n",
        "print(estado_municipio)"
      ],
      "metadata": {
        "colab": {
          "base_uri": "https://localhost:8080/"
        },
        "id": "11CWtwjy-ruj",
        "outputId": "e21df185-9017-4f98-8d96-c0590dbdcc89"
      },
      "execution_count": null,
      "outputs": [
        {
          "output_type": "stream",
          "name": "stdout",
          "text": [
            "[['Acre ', 'Amapá', 'Amazonas', 'Rondônia', 'Roraima', 'Tocantins', 'Pará', 'Alagoas ', 'Bahia', 'Ceará ', 'Maranhão', 'Paraíba', 'Pernambuco', 'Piauí', 'Rio Grande do Norte', 'Sergipe', 'Rio de Janeiro', 'São Paulo ', 'Espírito Santo', 'Minas Gerais', 'Rio Grande do Sul', 'Santa Catarina', 'Paraná', 'Distrito Federal', 'Goiás', 'Mato Grosso', 'Mato Grosso do Sul'], ['Amajari', 'Alto Alegre', 'Boa Vista', 'Bonfim', 'Cantá', 'Mucajaí', 'Normandia', 'Pacaraima', 'Uiramutã', 'caracaraí', 'Caroebe', 'Rorainopólis', 'São João da Baliza', 'São Luiz', 'Iracema']]\n"
          ]
        }
      ]
    },
    {
      "cell_type": "code",
      "source": [
        "estado_municipio.remove(municipio_roraima)"
      ],
      "metadata": {
        "id": "2jjxR8ht_64f"
      },
      "execution_count": null,
      "outputs": []
    },
    {
      "cell_type": "code",
      "source": [
        "\n",
        "Estado_roraima=[605761,40183,518,574,6]#LISTA RR 18/08/2020\n",
        "municipio_roraima=[\"Amajari\",\"Alto Alegre\",\"Boa Vista\",\"Bonfim\",\"Cantá\",\"Mucajaí\",\"Normandia\",\"Pacaraima\",\"Uiramutã\",\n",
        "\"caracaraí\",\"Caroebe\",\"Rorainopólis\",\"São João da Baliza\",\"São Luiz\",\"Iracema\"]\n",
        "populacao_roraima=[12796,15510,399213,12409,18335,17853,11290,17401,10559,21926,10169,30163,8201,7986,11950]\n",
        "Casos_acumulados_roraima=[277,493,29978,609,839,1036,272,1246,596,750,832,1401,736,197,234]\n",
        "Casos=[283,527,31106,665,869,806,877,242,1124,275,1272,1450,746,204,618]\n",
        "casosnovos_roraima=[0,25,408,20,7,19,0,17,2,2,4,8,0,2,1]\n",
        "obitosAcumulados_roraima=[6,14,444,11,9,12,9,26,2,8,4,20,3,2,4]\n",
        "NovosObitos_roraima=[0,0,5,0,0,0,0,1,0,0,0,0,0,0,0]\n",
        "regiao_roraima=[\"Centro Norte\",\"Centro Norte\",\"Centro Norte\",\"Centro Norte\",\"Centro Norte\",\n",
        "\"Centro Norte\",\" Centro Norte\",\"Centro Norte\",\"Cnetro Norte\",\"Sul\",\"Sul\",\"Sul\",\"Sul\",\"Sul\"]\n",
        "municipio_roraima.append(municipio_roraima)\n",
        "populacao_roraima.append(populacao_roraima)\n",
        "Casos_acumulados_roraima.append(Casos_acumulados_roraima)\n",
        "NovosObitos_roraima.append(NovosObitos_roraima)\n",
        "Estados=[municipio_roraima,regiao_roraima,populacao_roraima,Casos_acumulados_roraima,casosnovos_roraima,obitosAcumulados_roraima,NovosObitos_roraima]\n"
      ],
      "metadata": {
        "id": "khgnGz5UA7Pq"
      },
      "execution_count": null,
      "outputs": []
    },
    {
      "cell_type": "code",
      "source": [
        "len(estado_municipio)"
      ],
      "metadata": {
        "colab": {
          "base_uri": "https://localhost:8080/"
        },
        "id": "BwIea4M_GPkr",
        "outputId": "5cd8a8fd-b3e4-4a7c-9864-99ff2306bf61"
      },
      "execution_count": null,
      "outputs": [
        {
          "output_type": "execute_result",
          "data": {
            "text/plain": [
              "1"
            ]
          },
          "metadata": {},
          "execution_count": 30
        }
      ]
    },
    {
      "cell_type": "code",
      "source": [
        "novos_obitos=[3,31,0,6,6,4,5,6,5,0]\n",
        "print(min(novos_obitos))\n",
        "print(max(novos_obitos))\n"
      ],
      "metadata": {
        "colab": {
          "base_uri": "https://localhost:8080/"
        },
        "id": "OyTc-GFwHLiq",
        "outputId": "79c47865-9feb-45d8-c31f-04b733813208"
      },
      "execution_count": null,
      "outputs": [
        {
          "output_type": "stream",
          "name": "stdout",
          "text": [
            "0\n",
            "31\n"
          ]
        }
      ]
    },
    {
      "cell_type": "code",
      "source": [
        "estados_municipios={\"Paraiba\":\"Joao Pessoa\", \"Ceará\": \"Fortaleza\", \"Rio Grande do Norte\":\"Natal\", \"Rio de janeiro\":\"Rio de Janiero\"\n",
        "}\n",
        "print(estados_municipios)"
      ],
      "metadata": {
        "colab": {
          "base_uri": "https://localhost:8080/"
        },
        "id": "B7820YAdIMtc",
        "outputId": "79a32b8b-d569-4668-f700-e3d0f163ed5d"
      },
      "execution_count": null,
      "outputs": [
        {
          "output_type": "stream",
          "name": "stdout",
          "text": [
            "{'Paraiba': 'Joao Pessoa', 'Ceará': 'Fortaleza', 'Rio Grande do Norte': 'Natal', 'Rio de janeiro': 'Rio de Janiero'}\n"
          ]
        }
      ]
    },
    {
      "cell_type": "code",
      "source": [
        "municipios=(\"Maceió\",\"Salvador\",\"Fortaleza\",\"São Luis\",\"João Pessoa\",\"Recife\",\"Teresina\",\"Natal\",\n",
        "\"Aracaju\",\"Parnamirim\")\n",
        "casos_novos_piaui=(77,153,41,73,1,57,31,24,180,19)\n",
        "print(\"Teresina/PI:\", casos_novos_piaui[6])"
      ],
      "metadata": {
        "colab": {
          "base_uri": "https://localhost:8080/"
        },
        "id": "x7PmbjIyJNcT",
        "outputId": "3af04f60-1a7b-4609-884d-7104df43f5eb"
      },
      "execution_count": null,
      "outputs": [
        {
          "output_type": "stream",
          "name": "stdout",
          "text": [
            "Teresina/PI: 31\n"
          ]
        }
      ]
    }
  ]
}