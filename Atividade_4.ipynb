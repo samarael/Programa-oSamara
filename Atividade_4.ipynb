{
  "nbformat": 4,
  "nbformat_minor": 0,
  "metadata": {
    "colab": {
      "provenance": [],
      "collapsed_sections": [],
      "include_colab_link": true
    },
    "kernelspec": {
      "name": "python3",
      "display_name": "Python 3"
    },
    "language_info": {
      "name": "python"
    }
  },
  "cells": [
    {
      "cell_type": "markdown",
      "metadata": {
        "id": "view-in-github",
        "colab_type": "text"
      },
      "source": [
        "<a href=\"https://colab.research.google.com/github/samarael/Programa-oSamara/blob/main/Atividade_4.ipynb\" target=\"_parent\"><img src=\"https://colab.research.google.com/assets/colab-badge.svg\" alt=\"Open In Colab\"/></a>"
      ]
    },
    {
      "cell_type": "code",
      "execution_count": null,
      "metadata": {
        "colab": {
          "base_uri": "https://localhost:8080/"
        },
        "id": "qLfQiXddgq39",
        "outputId": "87c4600e-0fbe-4296-8a8b-a473c1da01c7"
      },
      "outputs": [
        {
          "name": "stdout",
          "output_type": "stream",
          "text": [
            "O animal está habituado?Sim\n"
          ]
        }
      ],
      "source": [
        "habituação=input(\"O animal está habituado?\")"
      ]
    },
    {
      "cell_type": "code",
      "source": [
        "centrimetros=30\n",
        "aproximacao=float(input(\"Uma nova distancia entre a barra e o animal:\"))\n",
        "if aproximacao>centrimetros:\n",
        "  print(\"Liberação de 0.5 ml de recompensa\")\n",
        "vezes=int(input(\"Quantas vezes o animal tocou a barra?:\"))\n",
        "if vezes>=20:\n",
        "  print(\"O experimento passou para a proxima fase\")\n",
        "som=input(\"Foi emitido som?(s/n)\")\n",
        "if som==\"s\":\n",
        "  print(\"Foi liberado 0.5 ml de recompensa\")\n",
        "else:\n",
        "  print(\"Não houve liberação de recompensa\")\n",
        "frequencia=input(\"O experimento foi realizado 50x em 30min?(s/n)\")\n",
        "if frequencia==\"s\":\n",
        "  print(\"o experimento seguirá para proxima fase\")"
      ],
      "metadata": {
        "colab": {
          "base_uri": "https://localhost:8080/"
        },
        "id": "m0A7WASoxNCl",
        "outputId": "4a7187cb-5b3e-438a-b3cc-cef97ed3ae36"
      },
      "execution_count": null,
      "outputs": [
        {
          "output_type": "stream",
          "name": "stdout",
          "text": [
            "Uma nova distancia entre a barra e o animal:40\n",
            "Liberação de 0.5 ml de recompensa\n",
            "Quantas vezes o animal tocou a barra?:28\n",
            "O experimento passou para a proxima fase\n",
            "Foi emitido som?(s/n)s\n",
            "Foi liberado 0.5 ml de recompensa\n",
            "O experimento foi realizado 50x em 30min?(s/n)s\n",
            "o experimento seguirá para proxima fase\n"
          ]
        }
      ]
    }
  ]
}